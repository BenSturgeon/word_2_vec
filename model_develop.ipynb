{
 "cells": [
  {
   "cell_type": "code",
   "execution_count": 2,
   "id": "5b3df08e",
   "metadata": {},
   "outputs": [],
   "source": [
    "import re\n",
    "import random\n",
    "import torch.nn as nn\n",
    "import torch\n",
    "import numpy as np"
   ]
  },
  {
   "cell_type": "code",
   "execution_count": 3,
   "id": "07ecaaf4",
   "metadata": {},
   "outputs": [],
   "source": [
    "def read_file(file_name):\n",
    "    with open(file_name, 'r') as f:\n",
    "        data = f.read()\n",
    "    return data"
   ]
  },
  {
   "cell_type": "code",
   "execution_count": 4,
   "id": "216c676a",
   "metadata": {},
   "outputs": [],
   "source": [
    "raw_data = read_file('shakespeare.txt')\n"
   ]
  },
  {
   "cell_type": "code",
   "execution_count": 5,
   "id": "1ad8b0be",
   "metadata": {},
   "outputs": [],
   "source": [
    "def remove_non_alpha_characters(data):\n",
    "    data = data.lower()\n",
    "    # use regex to remove all non-alphanumeric characters\n",
    "    data = re.sub(r'[^a-zA-Z\\s]', '', data)\n",
    "    # use regex to remove all whitespace characters\n",
    "    data = re.sub(r'\\s+', ' ', data)\n",
    "    return data\n",
    "\n",
    "def return_unique(data):\n",
    "    unique = set(data)\n",
    "    return list(unique)\n",
    "\n",
    "def remove_stopwords(data):\n",
    "    stopwords = ['a', 'an', 'the', 'and', 'or', 'but', 'if', 'then', 'else', 'when', 'at', 'from', 'by', 'on', 'off', 'for', 'in', 'out', 'over', 'to', 'into', 'with', \"\"]\n",
    "    data = [word for word in data if word not in stopwords]\n",
    "    return data"
   ]
  },
  {
   "cell_type": "code",
   "execution_count": 278,
   "id": "4d33ed3a",
   "metadata": {},
   "outputs": [],
   "source": [
    "data = remove_non_alpha_characters(raw_data)\n",
    "data = data.split(\" \")\n",
    "data = remove_stopwords(data)\n",
    "unique_words = return_unique(data)"
   ]
  },
  {
   "cell_type": "code",
   "execution_count": 279,
   "id": "f1bda534",
   "metadata": {},
   "outputs": [],
   "source": [
    "unique_dict = {word: i for i, word in enumerate(unique_words)}\n",
    "\n",
    "def one_hot_encode(words):\n",
    "    length = len(words.keys())\n",
    "    encoded_words = {}\n",
    "    for key, value in words.items():\n",
    "        one_hot = np.zeros(length)\n",
    "        one_hot[value] = 1\n",
    "        tensor = torch.from_numpy(one_hot).to(torch.int64)\n",
    "        encoded_words[key] = tensor\n",
    "\n",
    "    return encoded_words\n",
    "\n",
    "encoded_data = one_hot_encode(unique_dict)"
   ]
  },
  {
   "cell_type": "code",
   "execution_count": 280,
   "id": "134d5242",
   "metadata": {},
   "outputs": [],
   "source": [
    "def return_list_without_a_value(data, value):\n",
    "    return [x for x in data if x != value]\n",
    "\n",
    "\n",
    "window_size = 5\n",
    "dataset = []\n",
    "sample_data = data\n",
    "\n",
    "for i, val in enumerate(sample_data):\n",
    "    if i > len(sample_data) - window_size:\n",
    "        break\n",
    "    sub = sample_data[i:i+window_size]\n",
    "    included = return_list_without_a_value(sub, val)\n",
    "    for target in included:\n",
    "        dataset.append((unique_dict[val],unique_dict[target]))    "
   ]
  },
  {
   "cell_type": "code",
   "execution_count": 366,
   "id": "e9ea484f",
   "metadata": {},
   "outputs": [],
   "source": [
    "batch_size = 100\n",
    "n_iters = 3000\n",
    "num_epochs = 100\n",
    "num_epochs = int(num_epochs)\n",
    "# create a train_loader that will randomly generate examples forever\n",
    "\n",
    "train_loader = torch.utils.data.DataLoader(dataset=dataset, \n",
    "                                           batch_size=batch_size, \n",
    "                                           shuffle=True)"
   ]
  },
  {
   "cell_type": "code",
   "execution_count": 396,
   "id": "f9401026",
   "metadata": {},
   "outputs": [
    {
     "name": "stdout",
     "output_type": "stream",
     "text": [
      " Step [1341/31691], Loss: 3.8592\n",
      " Step [1361/31691], Loss: 3.8483\n",
      " Step [1381/31691], Loss: 3.8651\n",
      " Step [1401/31691], Loss: 3.8757\n",
      " Step [1421/31691], Loss: 3.8196\n",
      " Step [1441/31691], Loss: 3.8934\n"
     ]
    }
   ],
   "source": [
    "class SkipGramModel(nn.Module):\n",
    "    def __init__(self, vocab_size, embedding_dim):\n",
    "        super(SkipGramModel, self).__init__()\n",
    "        self.vocab_size = vocab_size\n",
    "        self.embedding_dim = embedding_dim\n",
    "        self.u_embeddings = nn.Embedding(vocab_size, embedding_dim, sparse=True)\n",
    "        self.v_embeddings = nn.Embedding(vocab_size, embedding_dim, sparse=True)\n",
    "        self.init_emb()\n",
    "\n",
    "    def init_emb(self):\n",
    "        init_mean = 0\n",
    "        init_std = 0.01\n",
    "        self.u_embeddings.weight.data.normal_(init_mean, init_std)\n",
    "        self.v_embeddings.weight.data.normal_(init_mean, init_std)\n",
    "\n",
    "    def forward(self, pos_u, pos_v, neg_v):\n",
    "        # reshape the input tensors to have the right dimensions\n",
    "        emb_u = self.u_embeddings(pos_u).view(-1, 1, self.embedding_dim).squeeze()\n",
    "        emb_v = self.v_embeddings(pos_v).view(-1, self.embedding_dim).squeeze()\n",
    "        # get the dot product of the two embeddings using the bmm function\n",
    "        score = torch.bmm(emb_u.unsqueeze(1), emb_v.unsqueeze(2)).squeeze()\n",
    "        score = torch.sigmoid(score)\n",
    "        neg_emb_v = self.v_embeddings(neg_v).view(-1, self.embedding_dim, 5)\n",
    "        neg_score = torch.bmm(emb_u.unsqueeze(1), neg_emb_v).squeeze()\n",
    "        neg_score = torch.sigmoid(neg_score)\n",
    "        return score, neg_score\n",
    "    \n",
    "    def forward_without_negatives(self, word1, word2):\n",
    "        pos_u = torch.tensor([word1])\n",
    "        pos_v = torch.tensor([word2])\n",
    "        emb_u = self.u_embeddings(pos_u).view(-1, 1, self.embedding_dim).squeeze()\n",
    "        emb_v = self.v_embeddings(pos_v).view(-1, self.embedding_dim).squeeze()\n",
    "        score = torch.dot(emb_u, emb_v)\n",
    "        print(score)\n",
    "        score = torch.sigmoid(score)\n",
    "        return score\n",
    "\n",
    "    def get_dict_embeddings(self):\n",
    "        return self.u_embeddings.weight.data.cpu().numpy()\n",
    "    \n",
    "    def get_embedding_from_word(self, word):\n",
    "        index = unique_dict[word]\n",
    "        return self.u_embeddings.weight.data[index]\n",
    "    \n",
    "    def get_embedding_from_index(self, index):\n",
    "        return self.u_embeddings.weight.data[index]\n",
    "\n",
    "    def save_embedding(self, id2word, file_name):\n",
    "        embedding = self.input_embeddings()\n",
    "        fout = open(file_name, 'w')\n",
    "        fout.write('{} {}\\n'.format(len(id2word), self.embedding_dim))\n",
    "        for wid, w in id2word.items():\n",
    "            e = ' '.join(map(lambda x: str(x), embedding[wid]))\n",
    "            fout.write('{} {}\\n'.format(w, e))\n",
    "        fout.close()\n",
    "    \n",
    "    def import_embeddings(self, file_name):\n",
    "        fin = open(file_name, 'r')\n",
    "        n, d = map(int, fin.readline().split())\n",
    "        embedding = np.zeros((n, d))\n",
    "        word2id = {}\n",
    "        for line in fin:\n",
    "            tokens = line.rstrip().split(' ')\n",
    "            word2id[tokens[0]] = len(word2id)\n",
    "            embedding[word2id[tokens[0]]] = list(map(float, tokens[1:]))\n",
    "        return embedding, word2id\n",
    "\n",
    "def non_scalar_loss(score, neg_score, lr, weight_decay):\n",
    "    pos_loss = -torch.mean(torch.log(score))\n",
    "    neg_loss = -torch.mean(torch.sum(torch.log(1 - neg_score), dim=1))\n",
    "    loss = pos_loss + neg_loss\n",
    "    # add L2 regularization term\n",
    "    l2_loss = 0\n",
    "    for param in model.parameters():\n",
    "        l2_loss += torch.sum(param**2)\n",
    "        loss += weight_decay * l2_loss\n",
    "    return loss\n",
    "  \n",
    "embedding_dim = 100\n",
    "window_size = 5\n",
    "\n",
    "dictionary_length = len(unique_words)\n",
    "\n",
    "model = SkipGramModel(dictionary_length, embedding_dim)\n",
    "\n",
    "criterion = nn.BCELoss()\n",
    "learning_rate = 0.01\n",
    "optimizer = torch.optim.Adam(model.parameters(), lr=learning_rate, weight_decay=0.0001)\n",
    "# optimizer = torch.optim.SparseAdam(model.parameters(), lr=learning_rate)\n",
    "\n",
    "loss_sum = 0\n",
    "\n",
    "negative_sample_length = 5\n",
    "\n",
    "pos_u_data = torch.ones(batch_size)\n",
    "neg_v_data = torch.zeros(batch_size*negative_sample_length)\n",
    "concat_data = torch.cat([pos_u_data, neg_v_data], dim=0)\n",
    "print(concat_data)\n",
    "\n",
    "epochs = 15\n",
    "for epoch in range(epochs):\n",
    "    for i, (x, y) in enumerate(train_loader):\n",
    "        pos_u = torch.tensor(x)\n",
    "        pos_v = torch.tensor(y)\n",
    "        neg_v = torch.randint(0, dictionary_length, (batch_size, negative_sample_length))\n",
    "        # print(neg_v.shape)\n",
    "        optimizer.zero_grad()\n",
    "        pos_score, neg_score = model(pos_u, pos_v, neg_v)\n",
    "        # score = torch.cat([pos_score, neg_score.flatten()], dim=0)\n",
    "        # combined_len = len(pos_score) + len(neg_score)\n",
    "        # # add a column of ones to pos_u_data\n",
    "        # pos_u_data = torch.ones(len(pos_u), 1)\n",
    "        # neg_v_data = torch.zeros(len(neg_score.flatten()), 1)\n",
    "        # print(score.shape, concat_data.shape)\n",
    "        loss =non_scalar_loss(pos_score, neg_score, learning_rate, 0.0001)\n",
    "        # loss = criterion(score, concat_data)\n",
    "        \n",
    "        loss.backward()\n",
    "        optimizer.step()\n",
    "        loss_sum += loss.item()\n",
    "        if i % 20 == 0:\n",
    "            print(' Step [{}/{}], Loss: {:.4f}' \n",
    "                    .format(i+1, len(dataset)//batch_size, loss_sum/20))\n",
    "            loss_sum = 0\n",
    "        if i > len(train_loader) - batch_size:\n",
    "            break\n",
    "        \n"
   ]
  },
  {
   "cell_type": "code",
   "execution_count": null,
   "id": "eb5bcb76",
   "metadata": {},
   "outputs": [],
   "source": []
  },
  {
   "cell_type": "code",
   "execution_count": 387,
   "id": "a2d4965e",
   "metadata": {},
   "outputs": [],
   "source": [
    "def subtract_vector(vector1,vector2):\n",
    "    return get_emb(vector1) - get_emb(vector2)\n",
    "\n",
    "def add_vector(vector1,vector2):\n",
    "    return get_emb(vector1) + get_emb(vector2)\n",
    "\n",
    "def cos_sim(vector1, vector2):\n",
    "    return np.dot(vector1, vector2) / (np.linalg.norm(vector1) * np.linalg.norm(vector2))\n",
    "\n",
    "def cos_sim_word(word1, word2):\n",
    "    vector1 = get_emb(word1)\n",
    "    vector2 = get_emb(word2)\n",
    "    return np.dot(vector1, vector2) / (np.linalg.norm(vector1) * np.linalg.norm(vector2))\n",
    "\n",
    "def get_emb(word):\n",
    "    return model.get_embedding_from_word(word)\n",
    "\n",
    "def invert_dictionary(dictionary):\n",
    "    return {v: k for k, v in dictionary.items()}\n",
    "\n",
    "def get_closest_vector(vector):\n",
    "    max = 0\n",
    "    target = None\n",
    "    for key,item in unique_dict.items():\n",
    "        comparative = get_emb(key)\n",
    "        comparison = cos_sim(vector, comparative)\n",
    "        if comparison > max:\n",
    "            max = comparison\n",
    "            target = key\n",
    "\n",
    "        \n",
    "    return target\n"
   ]
  },
  {
   "cell_type": "code",
   "execution_count": 388,
   "id": "e70f99ba",
   "metadata": {},
   "outputs": [],
   "source": [
    "vector = subtract_vector(\"king\", \"man\")\n",
    "vector = vector +get_emb(\"woman\") \n"
   ]
  },
  {
   "cell_type": "code",
   "execution_count": 389,
   "id": "37b692c8",
   "metadata": {},
   "outputs": [
    {
     "name": "stdout",
     "output_type": "stream",
     "text": [
      "0.78563315 ('flower', 'rose')\n",
      "0.81754017 ('flower', 'tree')\n",
      "0.91933894 ('flower', 'dog')\n",
      "0.52761704 ('flower', 'cat')\n",
      "0.6931794 ('flower', 'car')\n",
      "0.67876506 ('cat', 'dog')\n",
      "0.9805501 ('king', 'queen')\n",
      "0.3260212 ('king', 'royalty')\n",
      "0.3392235 ('queen', 'royalty')\n",
      "0.9819839 ('man', 'king')\n",
      "0.9580344 ('woman', 'king')\n"
     ]
    }
   ],
   "source": [
    "print(cos_sim_word(\"flower\", \"rose\"),(\"flower\", \"rose\"))\n",
    "print(cos_sim_word(\"flower\", \"tree\"), (\"flower\", \"tree\"))\n",
    "print(cos_sim_word(\"flower\", \"dog\"), (\"flower\", \"dog\"))\n",
    "print(cos_sim_word(\"flower\", \"cat\"), (\"flower\", \"cat\"))\n",
    "print(cos_sim_word(\"flower\", \"car\"), (\"flower\", \"car\"))\n",
    "print(cos_sim_word(\"cat\", \"dog\"), (\"cat\", \"dog\"))\n",
    "print(cos_sim_word(\"king\", \"queen\"), (\"king\", \"queen\"))\n",
    "print(cos_sim_word(\"king\", \"royalty\"), (\"king\", \"royalty\"))\n",
    "print(cos_sim_word(\"queen\", \"royalty\"), (\"queen\", \"royalty\"))\n",
    "print(cos_sim_word(\"man\", \"king\"), (\"man\", \"king\"))\n",
    "print(cos_sim_word(\"woman\", \"king\"), (\"woman\", \"king\"))\n",
    "\n"
   ]
  },
  {
   "cell_type": "code",
   "execution_count": 394,
   "id": "0fc74988",
   "metadata": {},
   "outputs": [
    {
     "name": "stdout",
     "output_type": "stream",
     "text": [
      "tensor(1.1570, grad_fn=<DotBackward0>)\n"
     ]
    },
    {
     "data": {
      "text/plain": [
       "tensor(0.7608, grad_fn=<SigmoidBackward0>)"
      ]
     },
     "execution_count": 394,
     "metadata": {},
     "output_type": "execute_result"
    }
   ],
   "source": [
    "reversed_unique_dict = invert_dictionary(unique_dict)\n",
    "index1 = unique_dict[\"woman\"]\n",
    "index2 = unique_dict[\"queen\"]\n",
    "model.forward_without_negatives(torch.tensor([index1]), torch.tensor([index2]))"
   ]
  },
  {
   "cell_type": "code",
   "execution_count": null,
   "id": "b66e4bcd",
   "metadata": {},
   "outputs": [],
   "source": []
  },
  {
   "cell_type": "code",
   "execution_count": 332,
   "id": "b2ead28b",
   "metadata": {},
   "outputs": [
    {
     "ename": "TypeError",
     "evalue": "'dict' object is not callable",
     "output_type": "error",
     "traceback": [
      "\u001b[0;31m---------------------------------------------------------------------------\u001b[0m",
      "\u001b[0;31mTypeError\u001b[0m                                 Traceback (most recent call last)",
      "Cell \u001b[0;32mIn [332], line 1\u001b[0m\n\u001b[0;32m----> 1\u001b[0m unique_dict(\u001b[39m\"\u001b[39;49m\u001b[39mking\u001b[39;49m\u001b[39m\"\u001b[39;49m)\n",
      "\u001b[0;31mTypeError\u001b[0m: 'dict' object is not callable"
     ]
    }
   ],
   "source": [
    "unique_dict"
   ]
  },
  {
   "cell_type": "code",
   "execution_count": 318,
   "id": "a306e7c8",
   "metadata": {},
   "outputs": [
    {
     "name": "stdout",
     "output_type": "stream",
     "text": [
      "king\n"
     ]
    }
   ],
   "source": [
    "print(get_closest_vector(vector))"
   ]
  },
  {
   "cell_type": "code",
   "execution_count": 217,
   "id": "3d8d537a",
   "metadata": {},
   "outputs": [],
   "source": [
    "# save embeddings\n",
    "path = \"embeddings\"\n",
    "model.save_embedding(id_to_word, \"outfile\")"
   ]
  },
  {
   "cell_type": "code",
   "execution_count": null,
   "id": "73ec8d3c",
   "metadata": {},
   "outputs": [],
   "source": []
  },
  {
   "cell_type": "markdown",
   "id": "a5fa1f4b",
   "metadata": {},
   "source": []
  },
  {
   "cell_type": "markdown",
   "id": "c318a93c",
   "metadata": {},
   "source": [
    "# To do\n",
    "Clean up training code by adding epochs\n",
    "\n",
    "Set up testing\n",
    "\n",
    "run experiments\n",
    "\n",
    "https://towardsdatascience.com/creating-word-embeddings-coding-the-word2vec-algorithm-in-python-using-deep-learning-b337d0ba17a8\n",
    "\n",
    "https://www.deeplearningwizard.com/deep_learning/practical_pytorch/pytorch_logistic_regression/#step-3-building-model"
   ]
  },
  {
   "cell_type": "code",
   "execution_count": null,
   "id": "86a168ea",
   "metadata": {},
   "outputs": [],
   "source": []
  }
 ],
 "metadata": {
  "kernelspec": {
   "display_name": "Python 3 (ipykernel)",
   "language": "python",
   "name": "python3"
  },
  "language_info": {
   "codemirror_mode": {
    "name": "ipython",
    "version": 3
   },
   "file_extension": ".py",
   "mimetype": "text/x-python",
   "name": "python",
   "nbconvert_exporter": "python",
   "pygments_lexer": "ipython3",
   "version": "3.10.8"
  },
  "vscode": {
   "interpreter": {
    "hash": "5b6a9f868315655f86619a29ce0a043959ee2de2105a58d548d1647254ae6395"
   }
  }
 },
 "nbformat": 4,
 "nbformat_minor": 5
}
