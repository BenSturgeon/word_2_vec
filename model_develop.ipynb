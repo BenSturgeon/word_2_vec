{
 "cells": [
  {
   "cell_type": "code",
   "execution_count": 2,
   "id": "5b3df08e",
   "metadata": {},
   "outputs": [],
   "source": [
    "import re\n",
    "import random\n",
    "import torch.nn as nn\n",
    "import torch\n",
    "import numpy as np"
   ]
  },
  {
   "cell_type": "code",
   "execution_count": 3,
   "id": "07ecaaf4",
   "metadata": {},
   "outputs": [],
   "source": [
    "def read_file(file_name):\n",
    "    with open(file_name, 'r') as f:\n",
    "        data = f.read()\n",
    "    return data"
   ]
  },
  {
   "cell_type": "code",
   "execution_count": 4,
   "id": "216c676a",
   "metadata": {},
   "outputs": [],
   "source": [
    "raw_data = read_file('shakespeare.txt')"
   ]
  },
  {
   "cell_type": "code",
   "execution_count": 5,
   "id": "1ad8b0be",
   "metadata": {},
   "outputs": [],
   "source": [
    "def remove_non_alpha_characters(data):\n",
    "    data = data.lower()\n",
    "    # use regex to remove all non-alphanumeric characters\n",
    "    data = re.sub(r'[^a-zA-Z\\s]', '', data)\n",
    "    # use regex to remove all whitespace characters\n",
    "    data = re.sub(r'\\s+', ' ', data)\n",
    "    return data\n",
    "\n",
    "def return_unique(data):\n",
    "    unique = set(data)\n",
    "    return list(unique)\n",
    "\n",
    "def remove_stopwords(data):\n",
    "    stopwords = ['a', 'an', 'the', 'and', 'or', 'but', 'if', 'then', 'else', 'when', 'at', 'from', 'by', 'on', 'off', 'for', 'in', 'out', 'over', 'to', 'into', 'with', \"\"]\n",
    "    data = [word for word in data if word not in stopwords]\n",
    "    return data"
   ]
  },
  {
   "cell_type": "code",
   "execution_count": 6,
   "id": "4d33ed3a",
   "metadata": {},
   "outputs": [],
   "source": [
    "data = remove_non_alpha_characters(raw_data)\n",
    "data = data.split(\" \")\n",
    "data = remove_stopwords(data)\n",
    "unique_words = return_unique(data)"
   ]
  },
  {
   "cell_type": "code",
   "execution_count": 7,
   "id": "f1bda534",
   "metadata": {},
   "outputs": [],
   "source": [
    "unique_dict = {word: i for i, word in enumerate(unique_words)}\n",
    "\n",
    "# def one_hot_encode(words):\n",
    "# words = [\"boy\", \"car\", \"man\"]\n",
    "\n",
    "def one_hot_encode(words):\n",
    "    length = len(words.keys())\n",
    "    encoded_words = {}\n",
    "    for key, value in words.items():\n",
    "        one_hot = np.zeros(length)\n",
    "        one_hot[value] = 1\n",
    "        tensor = torch.from_numpy(one_hot).to(torch.int64)\n",
    "        encoded_words[key] = tensor\n",
    "\n",
    "    return encoded_words\n",
    "\n",
    "encoded_data = one_hot_encode(unique_dict)"
   ]
  },
  {
   "cell_type": "code",
   "execution_count": 8,
   "id": "134d5242",
   "metadata": {},
   "outputs": [],
   "source": [
    "def return_list_without_a_value(data, value):\n",
    "    return [x for x in data if x != value]\n",
    "\n",
    "\n",
    "\n",
    "window_size = 5\n",
    "dataset = []\n",
    "sample_data = data\n",
    "\n",
    "for i, val in enumerate(sample_data):\n",
    "    if i > len(sample_data) - window_size:\n",
    "        break\n",
    "    sub = sample_data[i:i+window_size]\n",
    "    included = return_list_without_a_value(sub, val)\n",
    "    for target in included:\n",
    "        dataset.append((unique_dict[val],unique_dict[target]))\n",
    "    \n",
    "\n",
    "\n",
    "    "
   ]
  },
  {
   "cell_type": "code",
   "execution_count": 49,
   "id": "e9ea484f",
   "metadata": {},
   "outputs": [],
   "source": [
    "batch_size = 10\n",
    "n_iters = 3000\n",
    "num_epochs = 100\n",
    "num_epochs = int(num_epochs)\n",
    "# create a train_loader that will randomly generate examples forever\n",
    "\n",
    "train_loader = torch.utils.data.DataLoader(dataset=dataset, \n",
    "                                           batch_size=batch_size, \n",
    "                                           shuffle=True)"
   ]
  },
  {
   "cell_type": "code",
   "execution_count": null,
   "id": "f9401026",
   "metadata": {},
   "outputs": [],
   "source": [
    "class SkipGramModel(nn.Module):\n",
    "    def __init__(self, vocab_size, embedding_dim):\n",
    "        super(SkipGramModel, self).__init__()\n",
    "        self.vocab_size = vocab_size\n",
    "        self.embedding_dim = embedding_dim\n",
    "        self.u_embeddings = nn.Embedding(vocab_size, embedding_dim, sparse=True)\n",
    "        self.v_embeddings = nn.Embedding(vocab_size, embedding_dim, sparse=True)\n",
    "        self.init_emb()\n",
    "\n",
    "    def init_emb(self):\n",
    "        initrange = 0.1\n",
    "        self.u_embeddings.weight.data.uniform_(-initrange, initrange)\n",
    "        self.v_embeddings.weight.data.uniform_(-initrange, initrange)\n",
    "\n",
    "    def forward(self, pos_u, pos_v, neg_v):\n",
    "        # reshape the input tensors to have the right dimensions\n",
    "        emb_u = self.u_embeddings(pos_u).view(-1, 1, self.embedding_dim).squeeze()\n",
    "        emb_v = self.v_embeddings(pos_v).view(-1, self.embedding_dim).squeeze()\n",
    "        # get the dot product of the two embeddings using the bmm function\n",
    "        score = torch.bmm(emb_u.unsqueeze(1), emb_v.unsqueeze(2)).squeeze()\n",
    "        score = torch.sigmoid(score)\n",
    "        neg_emb_v = self.v_embeddings(neg_v).view(-1, self.embedding_dim, 5)\n",
    "        neg_score = torch.bmm(emb_u.unsqueeze(1), neg_emb_v).squeeze()\n",
    "        neg_score = torch.sigmoid(neg_score)\n",
    "        return score, neg_score\n",
    "\n",
    "    def get_dict_embeddings(self):\n",
    "        return self.u_embeddings.weight.data.cpu().numpy()\n",
    "    \n",
    "    def get_embedding_from_word(self, word):\n",
    "        index = unique_dict[word]\n",
    "        return self.u_embeddings.weight.data[index]\n",
    "    \n",
    "    def get_embedding_from_index(self, index):\n",
    "        return self.u_embeddings.weight.data[index]\n",
    "\n",
    "    def save_embedding(self, id2word, file_name):\n",
    "        embedding = self.input_embeddings()\n",
    "        fout = open(file_name, 'w')\n",
    "        fout.write('{} {}\\n'.format(len(id2word), self.embedding_dim))\n",
    "        for wid, w in id2word.items():\n",
    "            e = ' '.join(map(lambda x: str(x), embedding[wid]))\n",
    "            fout.write('{} {}\\n'.format(w, e))\n",
    "        fout.close()\n",
    "    \n",
    "    def import_embeddings(self, file_name):\n",
    "        fin = open(file_name, 'r')\n",
    "        n, d = map(int, fin.readline().split())\n",
    "        embedding = np.zeros((n, d))\n",
    "        word2id = {}\n",
    "        for line in fin:\n",
    "            tokens = line.rstrip().split(' ')\n",
    "            word2id[tokens[0]] = len(word2id)\n",
    "            embedding[word2id[tokens[0]]] = list(map(float, tokens[1:]))\n",
    "        return embedding, word2id\n",
    "\n",
    "\n",
    "embedding_dim = 300\n",
    "window_size = 5\n",
    "\n",
    "dictionary_length = len(unique_words)\n",
    "\n",
    "model = SkipGramModel(dictionary_length, embedding_dim)"
   ]
  },
  {
   "cell_type": "code",
   "execution_count": 204,
   "id": "eb5bcb76",
   "metadata": {},
   "outputs": [
    {
     "name": "stdout",
     "output_type": "stream",
     "text": [
      "tensor([1., 1., 1., 1., 1., 1., 1., 1., 1., 1., 0., 0., 0., 0., 0., 0., 0., 0.,\n",
      "        0., 0., 0., 0., 0., 0., 0., 0., 0., 0., 0., 0., 0., 0., 0., 0., 0., 0.,\n",
      "        0., 0., 0., 0., 0., 0., 0., 0., 0., 0., 0., 0., 0., 0., 0., 0., 0., 0.,\n",
      "        0., 0., 0., 0., 0., 0.])\n"
     ]
    },
    {
     "name": "stderr",
     "output_type": "stream",
     "text": [
      "/var/folders/xr/3pxy4p9914ld14l6mxvvknvw0000gn/T/ipykernel_29788/1079155030.py:21: UserWarning: To copy construct from a tensor, it is recommended to use sourceTensor.clone().detach() or sourceTensor.clone().detach().requires_grad_(True), rather than torch.tensor(sourceTensor).\n",
      "  pos_u = torch.tensor(x)\n",
      "/var/folders/xr/3pxy4p9914ld14l6mxvvknvw0000gn/T/ipykernel_29788/1079155030.py:22: UserWarning: To copy construct from a tensor, it is recommended to use sourceTensor.clone().detach() or sourceTensor.clone().detach().requires_grad_(True), rather than torch.tensor(sourceTensor).\n",
      "  pos_v = torch.tensor(y)\n"
     ]
    },
    {
     "ename": "RuntimeError",
     "evalue": "grad can be implicitly created only for scalar outputs",
     "output_type": "error",
     "traceback": [
      "\u001b[0;31m---------------------------------------------------------------------------\u001b[0m",
      "\u001b[0;31mRuntimeError\u001b[0m                              Traceback (most recent call last)",
      "Cell \u001b[0;32mIn [204], line 34\u001b[0m\n\u001b[1;32m     31\u001b[0m neg_v_data \u001b[39m=\u001b[39m torch\u001b[39m.\u001b[39mzeros(\u001b[39mlen\u001b[39m(neg_score\u001b[39m.\u001b[39mflatten()), \u001b[39m1\u001b[39m)\n\u001b[1;32m     32\u001b[0m loss \u001b[39m=\u001b[39m score\u001b[39m-\u001b[39mconcat_data\n\u001b[0;32m---> 34\u001b[0m loss\u001b[39m.\u001b[39;49mbackward()\n\u001b[1;32m     35\u001b[0m optimizer\u001b[39m.\u001b[39mstep()\n\u001b[1;32m     36\u001b[0m loss_sum \u001b[39m+\u001b[39m\u001b[39m=\u001b[39m loss\u001b[39m.\u001b[39mitem()\n",
      "File \u001b[0;32m~/werk/word_2_vec/venv_wordvec/lib/python3.10/site-packages/torch/_tensor.py:487\u001b[0m, in \u001b[0;36mTensor.backward\u001b[0;34m(self, gradient, retain_graph, create_graph, inputs)\u001b[0m\n\u001b[1;32m    477\u001b[0m \u001b[39mif\u001b[39;00m has_torch_function_unary(\u001b[39mself\u001b[39m):\n\u001b[1;32m    478\u001b[0m     \u001b[39mreturn\u001b[39;00m handle_torch_function(\n\u001b[1;32m    479\u001b[0m         Tensor\u001b[39m.\u001b[39mbackward,\n\u001b[1;32m    480\u001b[0m         (\u001b[39mself\u001b[39m,),\n\u001b[0;32m   (...)\u001b[0m\n\u001b[1;32m    485\u001b[0m         inputs\u001b[39m=\u001b[39minputs,\n\u001b[1;32m    486\u001b[0m     )\n\u001b[0;32m--> 487\u001b[0m torch\u001b[39m.\u001b[39;49mautograd\u001b[39m.\u001b[39;49mbackward(\n\u001b[1;32m    488\u001b[0m     \u001b[39mself\u001b[39;49m, gradient, retain_graph, create_graph, inputs\u001b[39m=\u001b[39;49minputs\n\u001b[1;32m    489\u001b[0m )\n",
      "File \u001b[0;32m~/werk/word_2_vec/venv_wordvec/lib/python3.10/site-packages/torch/autograd/__init__.py:190\u001b[0m, in \u001b[0;36mbackward\u001b[0;34m(tensors, grad_tensors, retain_graph, create_graph, grad_variables, inputs)\u001b[0m\n\u001b[1;32m    186\u001b[0m inputs \u001b[39m=\u001b[39m (inputs,) \u001b[39mif\u001b[39;00m \u001b[39misinstance\u001b[39m(inputs, torch\u001b[39m.\u001b[39mTensor) \u001b[39melse\u001b[39;00m \\\n\u001b[1;32m    187\u001b[0m     \u001b[39mtuple\u001b[39m(inputs) \u001b[39mif\u001b[39;00m inputs \u001b[39mis\u001b[39;00m \u001b[39mnot\u001b[39;00m \u001b[39mNone\u001b[39;00m \u001b[39melse\u001b[39;00m \u001b[39mtuple\u001b[39m()\n\u001b[1;32m    189\u001b[0m grad_tensors_ \u001b[39m=\u001b[39m _tensor_or_tensors_to_tuple(grad_tensors, \u001b[39mlen\u001b[39m(tensors))\n\u001b[0;32m--> 190\u001b[0m grad_tensors_ \u001b[39m=\u001b[39m _make_grads(tensors, grad_tensors_, is_grads_batched\u001b[39m=\u001b[39;49m\u001b[39mFalse\u001b[39;49;00m)\n\u001b[1;32m    191\u001b[0m \u001b[39mif\u001b[39;00m retain_graph \u001b[39mis\u001b[39;00m \u001b[39mNone\u001b[39;00m:\n\u001b[1;32m    192\u001b[0m     retain_graph \u001b[39m=\u001b[39m create_graph\n",
      "File \u001b[0;32m~/werk/word_2_vec/venv_wordvec/lib/python3.10/site-packages/torch/autograd/__init__.py:85\u001b[0m, in \u001b[0;36m_make_grads\u001b[0;34m(outputs, grads, is_grads_batched)\u001b[0m\n\u001b[1;32m     83\u001b[0m \u001b[39mif\u001b[39;00m out\u001b[39m.\u001b[39mrequires_grad:\n\u001b[1;32m     84\u001b[0m     \u001b[39mif\u001b[39;00m out\u001b[39m.\u001b[39mnumel() \u001b[39m!=\u001b[39m \u001b[39m1\u001b[39m:\n\u001b[0;32m---> 85\u001b[0m         \u001b[39mraise\u001b[39;00m \u001b[39mRuntimeError\u001b[39;00m(\u001b[39m\"\u001b[39m\u001b[39mgrad can be implicitly created only for scalar outputs\u001b[39m\u001b[39m\"\u001b[39m)\n\u001b[1;32m     86\u001b[0m     new_grads\u001b[39m.\u001b[39mappend(torch\u001b[39m.\u001b[39mones_like(out, memory_format\u001b[39m=\u001b[39mtorch\u001b[39m.\u001b[39mpreserve_format))\n\u001b[1;32m     87\u001b[0m \u001b[39melse\u001b[39;00m:\n",
      "\u001b[0;31mRuntimeError\u001b[0m: grad can be implicitly created only for scalar outputs"
     ]
    }
   ],
   "source": [
    "\n",
    "\n",
    "\n",
    "\n",
    "criterion = nn.BCELoss()\n",
    "learning_rate = 0.05\n",
    "optimizer = torch.optim.SparseAdam(model.parameters(), lr=learning_rate)\n",
    "\n",
    "loss_sum = 0\n",
    "\n",
    "negative_sample_length = 5\n",
    "\n",
    "pos_u_data = torch.ones(batch_size)\n",
    "neg_v_data = torch.zeros(batch_size*negative_sample_length)\n",
    "concat_data = torch.cat([pos_u_data, neg_v_data], dim=0)\n",
    "print(concat_data)\n",
    "\n",
    "epochs = 15\n",
    "for epoch in range(epochs):\n",
    "    for i, (x, y) in enumerate(train_loader):\n",
    "        pos_u = torch.tensor(x)\n",
    "        pos_v = torch.tensor(y)\n",
    "        neg_v = torch.randint(0, dictionary_length, (10, negative_sample_length))\n",
    "        # print(neg_v.shape)\n",
    "        optimizer.zero_grad()\n",
    "        pos_score, neg_score = model(pos_u, pos_v, neg_v)\n",
    "        score = torch.cat([pos_score, neg_score.flatten()], dim=0)\n",
    "        combined_len = len(pos_score) + len(neg_score)\n",
    "        # add a column of ones to pos_u_data\n",
    "        pos_u_data = torch.ones(len(pos_u), 1)\n",
    "        neg_v_data = torch.zeros(len(neg_score.flatten()), 1)\n",
    "        loss = criterion(score, concat_data) \n",
    "        \n",
    "        loss.backward()\n",
    "        optimizer.step()\n",
    "        loss_sum += loss.item()\n",
    "        if i % 1000 == 0:\n",
    "            print(' Step [{}/{}], Loss: {:.4f}' \n",
    "                    .format(i+1, len(dataset)//batch_size, loss_sum/1000))\n",
    "            loss_sum = 0\n"
   ]
  },
  {
   "cell_type": "code",
   "execution_count": 161,
   "id": "a8cb86ba",
   "metadata": {},
   "outputs": [],
   "source": [
    "# get cosine similarity between two vectors\n"
   ]
  },
  {
   "cell_type": "code",
   "execution_count": 191,
   "id": "10f9b052",
   "metadata": {},
   "outputs": [
    {
     "name": "stdout",
     "output_type": "stream",
     "text": [
      "0.3412128\n"
     ]
    }
   ],
   "source": [
    "king_vec = model.get_embedding_from_word(\"king\")\n",
    "queen_vec = model.get_embedding_from_word(\"queen\")\n",
    "\n",
    "\n",
    "\n",
    "print(cos_sim(get_emb(\"god\"), get_emb(\"dog\")))\n",
    "\n"
   ]
  },
  {
   "cell_type": "code",
   "execution_count": 196,
   "id": "a2d4965e",
   "metadata": {},
   "outputs": [],
   "source": [
    "def subtract_vector(vector1,vector2):\n",
    "    return get_emb(vector1) - get_emb(vector2)\n",
    "\n",
    "def add_vector(vector1,vector2):\n",
    "    return get_emb(vector1) + get_emb(vector2)\n",
    "\n",
    "def cos_sim(word1, word2):\n",
    "    vector1 = get_emb(word1)\n",
    "    vector2 = get_emb(word2)\n",
    "    return np.dot(vector1, vector2) / (np.linalg.norm(vector1) * np.linalg.norm(vector2))\n",
    "\n",
    "def get_emb(word):\n",
    "    return model.get_embedding_from_word(word)\n",
    "\n",
    "def get_closest_vector(vector):\n",
    "    max = 0\n",
    "    target = None\n",
    "    for key,item in unique_dict.items():\n",
    "        comparative = get_emb(key)\n",
    "        comparison = cos_sim(vector, comparative)\n",
    "        if comparison > max:\n",
    "            max = comparison\n",
    "            target = key\n",
    "\n",
    "        \n",
    "    return target\n"
   ]
  },
  {
   "cell_type": "code",
   "execution_count": 201,
   "id": "015260a5",
   "metadata": {},
   "outputs": [
    {
     "name": "stdout",
     "output_type": "stream",
     "text": [
      "0.48564646\n"
     ]
    }
   ],
   "source": [
    "print(cos_sim(\"king\", \"queen\"))"
   ]
  },
  {
   "cell_type": "code",
   "execution_count": 193,
   "id": "e70f99ba",
   "metadata": {},
   "outputs": [],
   "source": [
    "vector = subtract_vector(\"king\", \"man\")\n",
    "vector = get_emb(\"woman\") + vector\n"
   ]
  },
  {
   "cell_type": "code",
   "execution_count": 194,
   "id": "a306e7c8",
   "metadata": {},
   "outputs": [
    {
     "name": "stdout",
     "output_type": "stream",
     "text": [
      "woman\n"
     ]
    }
   ],
   "source": [
    "print(get_closest_vector(vector))"
   ]
  },
  {
   "cell_type": "code",
   "execution_count": 217,
   "id": "3d8d537a",
   "metadata": {},
   "outputs": [],
   "source": [
    "# save embeddings\n",
    "path = \"embeddings\"\n",
    "model.save_embedding(id_to_word, \"outfile\")"
   ]
  },
  {
   "cell_type": "code",
   "execution_count": null,
   "id": "73ec8d3c",
   "metadata": {},
   "outputs": [],
   "source": []
  },
  {
   "cell_type": "markdown",
   "id": "a5fa1f4b",
   "metadata": {},
   "source": []
  },
  {
   "cell_type": "markdown",
   "id": "c318a93c",
   "metadata": {},
   "source": [
    "# To do\n",
    "Clean up training code by adding epochs\n",
    "\n",
    "Set up testing\n",
    "\n",
    "run experiments\n",
    "\n",
    "https://towardsdatascience.com/creating-word-embeddings-coding-the-word2vec-algorithm-in-python-using-deep-learning-b337d0ba17a8\n",
    "\n",
    "https://www.deeplearningwizard.com/deep_learning/practical_pytorch/pytorch_logistic_regression/#step-3-building-model"
   ]
  },
  {
   "cell_type": "code",
   "execution_count": null,
   "id": "86a168ea",
   "metadata": {},
   "outputs": [],
   "source": []
  }
 ],
 "metadata": {
  "kernelspec": {
   "display_name": "Python 3 (ipykernel)",
   "language": "python",
   "name": "python3"
  },
  "language_info": {
   "codemirror_mode": {
    "name": "ipython",
    "version": 3
   },
   "file_extension": ".py",
   "mimetype": "text/x-python",
   "name": "python",
   "nbconvert_exporter": "python",
   "pygments_lexer": "ipython3",
   "version": "3.10.8"
  },
  "vscode": {
   "interpreter": {
    "hash": "5b6a9f868315655f86619a29ce0a043959ee2de2105a58d548d1647254ae6395"
   }
  }
 },
 "nbformat": 4,
 "nbformat_minor": 5
}
