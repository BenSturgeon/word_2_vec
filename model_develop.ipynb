{
 "cells": [
  {
   "cell_type": "code",
   "execution_count": 1,
   "id": "5b3df08e",
   "metadata": {},
   "outputs": [
    {
     "name": "stderr",
     "output_type": "stream",
     "text": [
      "/Users/benjaminsturgeon/werk/word_2_vec/venv_wordvec/lib/python3.10/site-packages/tqdm/auto.py:22: TqdmWarning: IProgress not found. Please update jupyter and ipywidgets. See https://ipywidgets.readthedocs.io/en/stable/user_install.html\n",
      "  from .autonotebook import tqdm as notebook_tqdm\n"
     ]
    }
   ],
   "source": [
    "import re\n",
    "import random\n",
    "import torch.nn as nn\n",
    "import torch\n",
    "import numpy as np"
   ]
  },
  {
   "cell_type": "code",
   "execution_count": 2,
   "id": "07ecaaf4",
   "metadata": {},
   "outputs": [],
   "source": [
    "def read_file(file_name):\n",
    "    with open(file_name, 'r') as f:\n",
    "        data = f.read()\n",
    "    return data"
   ]
  },
  {
   "cell_type": "code",
   "execution_count": 3,
   "id": "216c676a",
   "metadata": {},
   "outputs": [],
   "source": [
    "raw_data = read_file('shakespeare.txt')"
   ]
  },
  {
   "cell_type": "code",
   "execution_count": 4,
   "id": "1ad8b0be",
   "metadata": {},
   "outputs": [],
   "source": [
    "def remove_non_alpha_characters(data):\n",
    "    data = data.lower()\n",
    "    # use regex to remove all non-alphanumeric characters\n",
    "    data = re.sub(r'[^a-zA-Z\\s]', '', data)\n",
    "    # use regex to remove all whitespace characters\n",
    "    data = re.sub(r'\\s+', ' ', data)\n",
    "    return data\n",
    "\n",
    "def return_unique(data):\n",
    "    unique = set(data)\n",
    "    return list(unique)\n",
    "\n",
    "def remove_stopwords(data):\n",
    "    stopwords = ['a', 'an', 'the', 'and', 'or', 'but', 'if', 'then', 'else', 'when', 'at', 'from', 'by', 'on', 'off', 'for', 'in', 'out', 'over', 'to', 'into', 'with', \"\"]\n",
    "    data = [word for word in data if word not in stopwords]\n",
    "    return data"
   ]
  },
  {
   "cell_type": "code",
   "execution_count": 5,
   "id": "4d33ed3a",
   "metadata": {},
   "outputs": [],
   "source": [
    "data = remove_non_alpha_characters(raw_data)\n",
    "data = data.split(\" \")\n",
    "data = remove_stopwords(data)\n",
    "unique_words = return_unique(data)"
   ]
  },
  {
   "cell_type": "code",
   "execution_count": 6,
   "id": "f1bda534",
   "metadata": {},
   "outputs": [],
   "source": [
    "unique_dict = {word: i for i, word in enumerate(unique_words)}\n",
    "\n",
    "# def one_hot_encode(words):\n",
    "# words = [\"boy\", \"car\", \"man\"]\n",
    "\n",
    "def one_hot_encode(words):\n",
    "    length = len(words.keys())\n",
    "    encoded_words = {}\n",
    "    for key, value in words.items():\n",
    "        one_hot = np.zeros(length)\n",
    "        one_hot[value] = 1\n",
    "        tensor = torch.from_numpy(one_hot).to(torch.int64)\n",
    "        encoded_words[key] = tensor\n",
    "\n",
    "    return encoded_words\n",
    "\n",
    "encoded_data = one_hot_encode(unique_dict)"
   ]
  },
  {
   "cell_type": "code",
   "execution_count": 7,
   "id": "134d5242",
   "metadata": {},
   "outputs": [],
   "source": [
    "def return_list_without_a_value(data, value):\n",
    "    return [x for x in data if x != value]\n",
    "\n",
    "\n",
    "\n",
    "window_size = 5\n",
    "dataset = []\n",
    "sample_data = data\n",
    "\n",
    "for i, val in enumerate(sample_data):\n",
    "    if i > len(sample_data) - window_size:\n",
    "        break\n",
    "    sub = sample_data[i:i+window_size]\n",
    "    included = return_list_without_a_value(sub, val)\n",
    "    for target in included:\n",
    "        dataset.append((unique_dict[val],unique_dict[target]))\n",
    "    \n",
    "\n",
    "\n",
    "    "
   ]
  },
  {
   "cell_type": "code",
   "execution_count": 8,
   "id": "7bcf3766",
   "metadata": {},
   "outputs": [],
   "source": [
    "class InfiniteDataLoader(torch.utils.data.DataLoader):\n",
    "    def __init__(self, *args, **kwargs):\n",
    "        super().__init__(*args, **kwargs)\n",
    "        # Initialize an iterator over the dataset.\n",
    "        self.dataset_iterator = super().__iter__()\n",
    "\n",
    "    def __iter__(self):\n",
    "        return self\n",
    "\n",
    "    def __next__(self):\n",
    "        try:\n",
    "            batch = next(self.dataset_iterator)\n",
    "        except StopIteration:\n",
    "            # Dataset exhausted, use a new fresh iterator.\n",
    "            self.dataset_iterator = super().__iter__()\n",
    "            batch = next(self.dataset_iterator)\n",
    "        return batch"
   ]
  },
  {
   "cell_type": "code",
   "execution_count": 9,
   "id": "e9ea484f",
   "metadata": {},
   "outputs": [],
   "source": [
    "batch_size = 25\n",
    "n_iters = 3000\n",
    "num_epochs = 100\n",
    "num_epochs = int(num_epochs)\n",
    "# create a train_loader that will randomly generate examples forever\n",
    "\n",
    "train_loader = torch.utils.data.DataLoader(dataset=dataset, \n",
    "                                           batch_size=batch_size, \n",
    "                                           shuffle=True)"
   ]
  },
  {
   "cell_type": "code",
   "execution_count": 10,
   "id": "091babf1",
   "metadata": {},
   "outputs": [
    {
     "name": "stdout",
     "output_type": "stream",
     "text": [
      "tensor([15270, 27243,  4041, 15531, 27917, 11384, 27285,  7566, 11190,  4266,\n",
      "         6693, 21816,  9224, 28829,  2224,  3651,  7427, 21306, 22303, 15573,\n",
      "        22528,    58,  7167, 19441,  6330])\n",
      "tensor([11926, 11092, 13159, 15970,  7017, 26971, 16029, 29338, 21816, 11464,\n",
      "         9978,  8610, 27867, 15603, 27191,  7711, 27891, 29792,  5489, 18879,\n",
      "        14842,  2443, 13159, 10388, 27867])\n"
     ]
    }
   ],
   "source": [
    "for i in range(1):\n",
    "    for j, (x, y) in enumerate(train_loader):\n",
    "        print(x)\n",
    "        print(y)\n",
    "        break"
   ]
  },
  {
   "cell_type": "code",
   "execution_count": 38,
   "id": "eb5bcb76",
   "metadata": {},
   "outputs": [],
   "source": [
    "class SkipGramModel(nn.Module):\n",
    "    def __init__(self, vocab_size, embedding_dim):\n",
    "        super(SkipGramModel, self).__init__()\n",
    "        self.vocab_size = vocab_size\n",
    "        self.embedding_dim = embedding_dim\n",
    "        self.u_embeddings = nn.Embedding(vocab_size, embedding_dim, sparse=True)\n",
    "        self.v_embeddings = nn.Embedding(vocab_size, embedding_dim, sparse=True)\n",
    "        self.init_emb()\n",
    "\n",
    "    def init_emb(self):\n",
    "        initrange = 0.5 / self.embedding_dim\n",
    "        self.u_embeddings.weight.data.uniform_(-initrange, initrange)\n",
    "        self.v_embeddings.weight.data.uniform_(-0, 1)\n",
    "\n",
    "    def forward(self, pos_u, pos_v, neg_v):\n",
    "        emb_u = self.u_embeddings(pos_u)\n",
    "        emb_v = self.v_embeddings(pos_v)\n",
    "        score = torch.mul(emb_u, emb_v)\n",
    "        print(score)\n",
    "        score = torch.sum(score, dim=1)\n",
    "        score = torch.sigmoid(score)\n",
    "        print(score)\n",
    "        neg_emb_v = self.v_embeddings(neg_v)\n",
    "        neg_score = torch.bmm(neg_emb_v, emb_u.unsqueeze(2)).squeeze()\n",
    "        neg_score = torch.sigmoid(neg_score)\n",
    "        return score, neg_score\n",
    "\n",
    "    def get_dict_embeddings(self):\n",
    "        return self.u_embeddings.weight.data.cpu().numpy()\n",
    "    \n",
    "    def get_embedding_from_word(self, word):\n",
    "        index = unique_dict[word]\n",
    "        return self.u_embeddings.weight.data[index]\n",
    "    \n",
    "    def get_embedding_from_index(self, index):\n",
    "        return self.u_embeddings.weight.data[index]\n",
    "\n",
    "    def save_embedding(self, id2word, file_name):\n",
    "        embedding = self.input_embeddings()\n",
    "        fout = open(file_name, 'w')\n",
    "        fout.write('{} {}\\n'.format(len(id2word), self.embedding_dim))\n",
    "        for wid, w in id2word.items():\n",
    "            e = ' '.join(map(lambda x: str(x), embedding[wid]))\n",
    "            fout.write('{} {}\\n'.format(w, e))\n",
    "        fout.close()\n",
    "    \n",
    "    def import_embeddings(self, file_name):\n",
    "        fin = open(file_name, 'r')\n",
    "        n, d = map(int, fin.readline().split())\n",
    "        embedding = np.zeros((n, d))\n",
    "        word2id = {}\n",
    "        for line in fin:\n",
    "            tokens = line.rstrip().split(' ')\n",
    "            word2id[tokens[0]] = len(word2id)\n",
    "            embedding[word2id[tokens[0]]] = list(map(float, tokens[1:]))\n",
    "        return embedding, word2id\n",
    "\n",
    "\n",
    "\n"
   ]
  },
  {
   "cell_type": "code",
   "execution_count": 39,
   "id": "8810d39b",
   "metadata": {},
   "outputs": [],
   "source": [
    "embedding_dim = 100\n",
    "window_size = 5\n",
    "\n",
    "dictionary_length = len(unique_words)\n",
    "\n",
    "model = SkipGramModel(dictionary_length, embedding_dim)\n",
    "\n",
    "\n",
    "\n",
    "criterion = nn.BCELoss()\n",
    "learning_rate = 0.05\n",
    "optimizer = torch.optim.SparseAdam(model.parameters(), lr=learning_rate)"
   ]
  },
  {
   "cell_type": "code",
   "execution_count": 40,
   "id": "68be7818",
   "metadata": {},
   "outputs": [
    {
     "name": "stdout",
     "output_type": "stream",
     "text": [
      "tensor([1., 1., 1., 1., 1., 1., 1., 1., 1., 1., 1., 1., 1., 1., 1., 1., 1., 1.,\n",
      "        1., 1., 1., 1., 1., 1., 1., 0., 0., 0., 0., 0., 0., 0., 0., 0., 0., 0.,\n",
      "        0., 0., 0., 0., 0., 0., 0., 0., 0., 0., 0., 0., 0., 0., 0., 0., 0., 0.,\n",
      "        0., 0., 0., 0., 0., 0., 0., 0., 0., 0., 0., 0., 0., 0., 0., 0., 0., 0.,\n",
      "        0., 0., 0., 0., 0., 0., 0., 0., 0., 0., 0., 0., 0., 0., 0., 0., 0., 0.,\n",
      "        0., 0., 0., 0., 0., 0., 0., 0., 0., 0., 0., 0., 0., 0., 0., 0., 0., 0.,\n",
      "        0., 0., 0., 0., 0., 0., 0., 0., 0., 0., 0., 0., 0., 0., 0., 0., 0., 0.,\n",
      "        0., 0., 0., 0., 0., 0., 0., 0., 0., 0., 0., 0., 0., 0., 0., 0., 0., 0.,\n",
      "        0., 0., 0., 0., 0., 0.])\n",
      "tensor([[-2.9831e-04, -1.5981e-03,  3.0355e-03,  ..., -5.5823e-04,\n",
      "         -4.0636e-04, -3.2042e-03],\n",
      "        [-1.7127e-03,  4.1686e-04, -4.2139e-04,  ...,  1.3538e-03,\n",
      "          6.8071e-04,  3.8778e-04],\n",
      "        [-1.4514e-03, -4.1527e-04,  6.2697e-04,  ..., -3.8426e-04,\n",
      "          1.1767e-03, -2.5559e-03],\n",
      "        ...,\n",
      "        [-5.8681e-04,  7.6242e-05,  8.7785e-06,  ..., -3.2857e-04,\n",
      "         -1.7519e-03,  2.1658e-03],\n",
      "        [ 1.3351e-03, -1.2508e-03, -2.9574e-04,  ..., -1.5003e-03,\n",
      "         -8.0709e-04, -2.4578e-03],\n",
      "        [ 7.3491e-04,  2.0990e-03,  4.8080e-04,  ..., -1.5531e-03,\n",
      "         -7.5378e-04, -1.5405e-03]], grad_fn=<MulBackward0>)\n",
      "tensor([[0.4999, 0.4996, 0.5008,  ..., 0.4999, 0.4999, 0.4992],\n",
      "        [0.4996, 0.5001, 0.4999,  ..., 0.5003, 0.5002, 0.5001],\n",
      "        [0.4996, 0.4999, 0.5002,  ..., 0.4999, 0.5003, 0.4994],\n",
      "        ...,\n",
      "        [0.4999, 0.5000, 0.5000,  ..., 0.4999, 0.4996, 0.5005],\n",
      "        [0.5003, 0.4997, 0.4999,  ..., 0.4996, 0.4998, 0.4994],\n",
      "        [0.5002, 0.5005, 0.5001,  ..., 0.4996, 0.4998, 0.4996]],\n",
      "       grad_fn=<SigmoidBackward0>)\n"
     ]
    },
    {
     "ename": "RuntimeError",
     "evalue": "Tensors must have same number of dimensions: got 2 and 1",
     "output_type": "error",
     "traceback": [
      "\u001b[0;31m---------------------------------------------------------------------------\u001b[0m",
      "\u001b[0;31mRuntimeError\u001b[0m                              Traceback (most recent call last)",
      "Cell \u001b[0;32mIn [40], line 20\u001b[0m\n\u001b[1;32m     18\u001b[0m optimizer\u001b[39m.\u001b[39mzero_grad()\n\u001b[1;32m     19\u001b[0m pos_score, neg_score \u001b[39m=\u001b[39m model(pos_u, pos_v, neg_v)\n\u001b[0;32m---> 20\u001b[0m score \u001b[39m=\u001b[39m torch\u001b[39m.\u001b[39;49mcat([pos_score, neg_score\u001b[39m.\u001b[39;49mflatten()], dim\u001b[39m=\u001b[39;49m\u001b[39m0\u001b[39;49m)\n\u001b[1;32m     21\u001b[0m combined_len \u001b[39m=\u001b[39m \u001b[39mlen\u001b[39m(pos_score) \u001b[39m+\u001b[39m \u001b[39mlen\u001b[39m(neg_score)\n\u001b[1;32m     22\u001b[0m \u001b[39m# add a column of ones to pos_u_data\u001b[39;00m\n",
      "\u001b[0;31mRuntimeError\u001b[0m: Tensors must have same number of dimensions: got 2 and 1"
     ]
    }
   ],
   "source": [
    "\n",
    "\n",
    "# for epoch in range(num_epochs):\n",
    "loss_sum = 0\n",
    "#TODO: add random negative sampling.\n",
    "\n",
    "negative_sample_length = 5\n",
    "\n",
    "pos_u_data = torch.ones(batch_size)\n",
    "neg_v_data = torch.zeros(batch_size*negative_sample_length)\n",
    "concat_data = torch.cat([pos_u_data, neg_v_data], dim=0)\n",
    "print(concat_data)\n",
    "\n",
    "epochs = 15\n",
    "for epoch in range(epochs):\n",
    "    for i, (x, y) in enumerate(train_loader):\n",
    "        pos_u = x\n",
    "        pos_v = y\n",
    "        neg_v = torch.randint(0, dictionary_length, (batch_size, negative_sample_length))\n",
    "        optimizer.zero_grad()\n",
    "        pos_score, neg_score = model(pos_u, pos_v, neg_v)\n",
    "        score = torch.cat([pos_score, neg_score.flatten()], dim=0)\n",
    "        combined_len = len(pos_score) + len(neg_score)\n",
    "        # add a column of ones to pos_u_data\n",
    "        pos_u_data = torch.ones(len(pos_u), 1)\n",
    "        neg_v_data = torch.zeros(len(neg_score.flatten()), 1)\n",
    "        loss = criterion(score, concat_data) \n",
    "        \n",
    "        loss.backward()\n",
    "        optimizer.step()\n",
    "        loss_sum += loss.item()\n",
    "        if i % 1000 == 0:\n",
    "            print(' Step [{}/{}], Loss: {:.4f}' \n",
    "                    .format(i+1, len(dataset)//batch_size, loss_sum/1000))\n",
    "            loss_sum = 0"
   ]
  },
  {
   "cell_type": "code",
   "execution_count": 35,
   "id": "9860fb06",
   "metadata": {},
   "outputs": [
    {
     "data": {
      "text/plain": [
       "tensor([5.2269e-01, 4.4462e-07, 1.0000e+00, 1.0000e+00, 1.0000e+00, 1.0000e+00,\n",
       "        1.0000e+00, 1.0000e+00, 1.0000e+00, 1.0000e+00, 1.0000e+00, 1.0000e+00,\n",
       "        1.0000e+00, 2.4634e-12, 4.0539e-08, 9.9505e-01, 3.5667e-12, 1.0000e+00,\n",
       "        1.0000e+00, 8.7406e-01, 1.0000e+00, 1.0000e+00, 1.0000e+00, 4.6503e-02,\n",
       "        4.8850e-10, 4.9791e-01, 4.9963e-01, 5.0157e-01, 4.9422e-01, 4.9940e-01,\n",
       "        1.5762e-18, 5.2390e-13, 1.3083e-18, 1.7323e-16, 1.4331e-10, 1.0000e+00,\n",
       "        1.4966e-28, 1.8605e-13, 6.7696e-16, 1.1704e-28, 1.3062e-18, 3.9723e-14,\n",
       "        4.0595e-29, 5.4408e-04, 3.7371e-23, 3.4942e-32, 1.7813e-34, 2.0635e-22,\n",
       "        7.3659e-35, 2.0975e-20, 3.8495e-06, 4.4294e-03, 1.7150e-07, 2.1126e-05,\n",
       "        2.4992e-03, 6.6902e-03, 1.6072e-08, 1.6487e-28, 4.8024e-22, 2.7475e-22,\n",
       "        6.7192e-10, 1.0290e-04, 9.9847e-01, 8.8213e-10, 3.3383e-09, 1.7608e-10,\n",
       "        6.7441e-08, 2.9392e-21, 1.0000e+00, 8.5875e-07, 1.8135e-02, 3.3512e-03,\n",
       "        2.6741e-04, 1.5849e-05, 2.5614e-03, 1.0000e+00, 2.7706e-35, 9.9738e-06,\n",
       "        0.0000e+00, 0.0000e+00, 1.8127e-23, 2.4677e-10, 3.6567e-31, 1.1531e-28,\n",
       "        4.0641e-12, 1.1212e-07, 4.0540e-14, 1.0642e-03, 1.6386e-13, 7.7154e-14,\n",
       "        2.1296e-17, 3.8930e-08, 1.8587e-15, 2.4003e-15, 2.8364e-02, 1.2349e-35,\n",
       "        3.1883e-32, 3.8601e-24, 5.6610e-32, 5.4684e-25, 1.1754e-01, 1.8524e-06,\n",
       "        1.2414e-06, 1.1516e-02, 1.9214e-04, 0.0000e+00, 1.1180e-07, 0.0000e+00,\n",
       "        4.3048e-34, 2.3899e-37, 7.3606e-14, 7.1043e-27, 3.5446e-04, 7.6096e-26,\n",
       "        2.7051e-23, 1.3223e-04, 7.2875e-13, 2.9785e-05, 1.3642e-02, 5.6333e-12,\n",
       "        1.0527e-04, 3.3838e-04, 4.1035e-07, 1.9362e-01, 2.4321e-04, 6.2287e-27,\n",
       "        7.9414e-34, 1.9749e-35, 1.5737e-21, 1.7640e-13, 0.0000e+00, 2.9291e-28,\n",
       "        0.0000e+00, 0.0000e+00, 0.0000e+00, 1.4480e-31, 0.0000e+00, 0.0000e+00,\n",
       "        0.0000e+00, 1.9238e-19, 1.3193e-03, 1.0000e+00, 1.0486e-08, 7.8959e-12,\n",
       "        5.5097e-18, 1.6570e-16, 1.3078e-06, 1.6091e-01, 9.2037e-12, 9.9515e-01],\n",
       "       grad_fn=<CatBackward0>)"
      ]
     },
     "execution_count": 35,
     "metadata": {},
     "output_type": "execute_result"
    }
   ],
   "source": [
    "score"
   ]
  },
  {
   "cell_type": "code",
   "execution_count": 140,
   "id": "a8cb86ba",
   "metadata": {},
   "outputs": [],
   "source": [
    "# get cosine similarity between two vectors\n",
    "def cos_sim(a, b):\n",
    "    return np.dot(a, b) / (np.linalg.norm(a) * np.linalg.norm(b))"
   ]
  },
  {
   "cell_type": "code",
   "execution_count": 37,
   "id": "26219c7e",
   "metadata": {},
   "outputs": [
    {
     "data": {
      "text/plain": [
       "tensor([0.5000, 0.7311])"
      ]
     },
     "execution_count": 37,
     "metadata": {},
     "output_type": "execute_result"
    }
   ],
   "source": [
    "torch.sigmoid(torch.tensor([0,1]))"
   ]
  },
  {
   "cell_type": "code",
   "execution_count": 145,
   "id": "10f9b052",
   "metadata": {},
   "outputs": [
    {
     "name": "stdout",
     "output_type": "stream",
     "text": [
      "0.37350982\n"
     ]
    }
   ],
   "source": [
    "king_vec = model.get_embedding_from_word(\"king\")\n",
    "queen_vec = model.get_embedding_from_word(\"queen\")\n",
    "\n",
    "def get_emb(word):\n",
    "    return model.get_embedding_from_word(word)\n",
    "\n",
    "print(cos_sim(get_emb(\"man\"), get_emb(\"queen\")))"
   ]
  },
  {
   "cell_type": "code",
   "execution_count": 217,
   "id": "3d8d537a",
   "metadata": {},
   "outputs": [],
   "source": [
    "# save embeddings\n",
    "path = \"embeddings\"\n",
    "model.save_embedding(id_to_word, \"outfile\")"
   ]
  },
  {
   "cell_type": "markdown",
   "id": "a5fa1f4b",
   "metadata": {},
   "source": []
  },
  {
   "cell_type": "markdown",
   "id": "c318a93c",
   "metadata": {},
   "source": [
    "# To do\n",
    "Clean up training code by adding epochs\n",
    "\n",
    "Set up testing\n",
    "\n",
    "run experiments\n",
    "\n",
    "https://towardsdatascience.com/creating-word-embeddings-coding-the-word2vec-algorithm-in-python-using-deep-learning-b337d0ba17a8\n",
    "\n",
    "https://www.deeplearningwizard.com/deep_learning/practical_pytorch/pytorch_logistic_regression/#step-3-building-model"
   ]
  },
  {
   "cell_type": "code",
   "execution_count": null,
   "id": "86a168ea",
   "metadata": {},
   "outputs": [],
   "source": []
  }
 ],
 "metadata": {
  "kernelspec": {
   "display_name": "Python 3 (ipykernel)",
   "language": "python",
   "name": "python3"
  },
  "language_info": {
   "codemirror_mode": {
    "name": "ipython",
    "version": 3
   },
   "file_extension": ".py",
   "mimetype": "text/x-python",
   "name": "python",
   "nbconvert_exporter": "python",
   "pygments_lexer": "ipython3",
   "version": "3.10.8"
  },
  "vscode": {
   "interpreter": {
    "hash": "5b6a9f868315655f86619a29ce0a043959ee2de2105a58d548d1647254ae6395"
   }
  }
 },
 "nbformat": 4,
 "nbformat_minor": 5
}
